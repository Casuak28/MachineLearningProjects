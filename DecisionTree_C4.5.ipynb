{
 "cells": [
  {
   "cell_type": "code",
   "execution_count": 1,
   "id": "7ff24110",
   "metadata": {},
   "outputs": [],
   "source": [
    "#======================================================#\n",
    "#     LAB 7 - Decision Tree - C4.5                     #\n",
    "#     Author: SHIKHAR ASTHANA                          #\n",
    "#     Roll No. : 2K22/AFI/24                           #\n",
    "#     Subject: Machine Learning Lab (Kavinder Sir)     #\n",
    "#======================================================#"
   ]
  },
  {
   "cell_type": "code",
   "execution_count": 2,
   "id": "0cd97389",
   "metadata": {},
   "outputs": [],
   "source": [
    "#importing the header files\n",
    "import pandas as pd\n",
    "import numpy as np\n",
    "import matplotlib.pyplot as plt"
   ]
  },
  {
   "cell_type": "code",
   "execution_count": 3,
   "id": "579b7822",
   "metadata": {},
   "outputs": [
    {
     "data": {
      "text/html": [
       "<div>\n",
       "<style scoped>\n",
       "    .dataframe tbody tr th:only-of-type {\n",
       "        vertical-align: middle;\n",
       "    }\n",
       "\n",
       "    .dataframe tbody tr th {\n",
       "        vertical-align: top;\n",
       "    }\n",
       "\n",
       "    .dataframe thead th {\n",
       "        text-align: right;\n",
       "    }\n",
       "</style>\n",
       "<table border=\"1\" class=\"dataframe\">\n",
       "  <thead>\n",
       "    <tr style=\"text-align: right;\">\n",
       "      <th></th>\n",
       "      <th>Outlook</th>\n",
       "      <th>Temperature</th>\n",
       "      <th>Humidity</th>\n",
       "      <th>Wind</th>\n",
       "      <th>Play Tennis</th>\n",
       "    </tr>\n",
       "  </thead>\n",
       "  <tbody>\n",
       "    <tr>\n",
       "      <th>0</th>\n",
       "      <td>Sunny</td>\n",
       "      <td>Hot</td>\n",
       "      <td>High</td>\n",
       "      <td>Weak</td>\n",
       "      <td>No</td>\n",
       "    </tr>\n",
       "    <tr>\n",
       "      <th>1</th>\n",
       "      <td>Sunny</td>\n",
       "      <td>Hot</td>\n",
       "      <td>High</td>\n",
       "      <td>Strong</td>\n",
       "      <td>No</td>\n",
       "    </tr>\n",
       "    <tr>\n",
       "      <th>2</th>\n",
       "      <td>Overcast</td>\n",
       "      <td>Hot</td>\n",
       "      <td>High</td>\n",
       "      <td>Weak</td>\n",
       "      <td>Yes</td>\n",
       "    </tr>\n",
       "    <tr>\n",
       "      <th>3</th>\n",
       "      <td>Rain</td>\n",
       "      <td>Mild</td>\n",
       "      <td>High</td>\n",
       "      <td>Weak</td>\n",
       "      <td>Yes</td>\n",
       "    </tr>\n",
       "    <tr>\n",
       "      <th>4</th>\n",
       "      <td>Rain</td>\n",
       "      <td>Cool</td>\n",
       "      <td>Normal</td>\n",
       "      <td>Weak</td>\n",
       "      <td>Yes</td>\n",
       "    </tr>\n",
       "    <tr>\n",
       "      <th>5</th>\n",
       "      <td>Rain</td>\n",
       "      <td>Cool</td>\n",
       "      <td>Normal</td>\n",
       "      <td>Strong</td>\n",
       "      <td>No</td>\n",
       "    </tr>\n",
       "    <tr>\n",
       "      <th>6</th>\n",
       "      <td>Overcast</td>\n",
       "      <td>Cool</td>\n",
       "      <td>Normal</td>\n",
       "      <td>Strong</td>\n",
       "      <td>Yes</td>\n",
       "    </tr>\n",
       "    <tr>\n",
       "      <th>7</th>\n",
       "      <td>Sunny</td>\n",
       "      <td>Mild</td>\n",
       "      <td>High</td>\n",
       "      <td>Weak</td>\n",
       "      <td>No</td>\n",
       "    </tr>\n",
       "    <tr>\n",
       "      <th>8</th>\n",
       "      <td>Sunny</td>\n",
       "      <td>Cool</td>\n",
       "      <td>Normal</td>\n",
       "      <td>Weak</td>\n",
       "      <td>Yes</td>\n",
       "    </tr>\n",
       "    <tr>\n",
       "      <th>9</th>\n",
       "      <td>Rain</td>\n",
       "      <td>Mild</td>\n",
       "      <td>Normal</td>\n",
       "      <td>Weak</td>\n",
       "      <td>Yes</td>\n",
       "    </tr>\n",
       "    <tr>\n",
       "      <th>10</th>\n",
       "      <td>Sunny</td>\n",
       "      <td>Mild</td>\n",
       "      <td>Normal</td>\n",
       "      <td>Strong</td>\n",
       "      <td>Yes</td>\n",
       "    </tr>\n",
       "    <tr>\n",
       "      <th>11</th>\n",
       "      <td>Overcast</td>\n",
       "      <td>Mild</td>\n",
       "      <td>High</td>\n",
       "      <td>Strong</td>\n",
       "      <td>Yes</td>\n",
       "    </tr>\n",
       "    <tr>\n",
       "      <th>12</th>\n",
       "      <td>Overcast</td>\n",
       "      <td>Hot</td>\n",
       "      <td>Normal</td>\n",
       "      <td>Weak</td>\n",
       "      <td>Yes</td>\n",
       "    </tr>\n",
       "    <tr>\n",
       "      <th>13</th>\n",
       "      <td>Rain</td>\n",
       "      <td>Mild</td>\n",
       "      <td>High</td>\n",
       "      <td>Strong</td>\n",
       "      <td>No</td>\n",
       "    </tr>\n",
       "  </tbody>\n",
       "</table>\n",
       "</div>"
      ],
      "text/plain": [
       "     Outlook Temperature Humidity    Wind Play Tennis\n",
       "0      Sunny         Hot     High    Weak          No\n",
       "1      Sunny         Hot     High  Strong          No\n",
       "2   Overcast         Hot     High    Weak         Yes\n",
       "3       Rain        Mild     High    Weak         Yes\n",
       "4       Rain        Cool   Normal    Weak         Yes\n",
       "5       Rain        Cool   Normal  Strong          No\n",
       "6   Overcast        Cool   Normal  Strong         Yes\n",
       "7      Sunny        Mild     High    Weak          No\n",
       "8      Sunny        Cool   Normal    Weak         Yes\n",
       "9       Rain        Mild   Normal    Weak         Yes\n",
       "10     Sunny        Mild   Normal  Strong         Yes\n",
       "11  Overcast        Mild     High  Strong         Yes\n",
       "12  Overcast         Hot   Normal    Weak         Yes\n",
       "13      Rain        Mild     High  Strong          No"
      ]
     },
     "execution_count": 3,
     "metadata": {},
     "output_type": "execute_result"
    }
   ],
   "source": [
    "#importing the dataset\n",
    "df=pd.read_csv('PlayTennis.csv')\n",
    "df"
   ]
  },
  {
   "cell_type": "code",
   "execution_count": 4,
   "id": "f8b2a232",
   "metadata": {},
   "outputs": [],
   "source": [
    "class DecisionTree:\n",
    "    def __init__(self):\n",
    "        self.value=\"\"\n",
    "        self.nodes={}\n",
    "    def __str__(self):\n",
    "        return self.value+f' {self.nodes}'"
   ]
  },
  {
   "cell_type": "code",
   "execution_count": 5,
   "id": "44fef3c0",
   "metadata": {},
   "outputs": [],
   "source": [
    "def calc_entropy(column):\n",
    "    total=len(column)\n",
    "    category=np.array(column.value_counts())\n",
    "    entropy=0\n",
    "    for i in category:\n",
    "        entropy-=(i/total)*np.log2(i/total)\n",
    "    return entropy"
   ]
  },
  {
   "cell_type": "code",
   "execution_count": 6,
   "id": "e9e579f2",
   "metadata": {},
   "outputs": [],
   "source": [
    "def calc_gain_ratio(dataframe,attribute,target_entropy,target):\n",
    "    column=dataframe[attribute]\n",
    "    n=len(column)\n",
    "    values=column.value_counts().tolist()\n",
    "    classes=column.value_counts().keys().tolist()\n",
    "    entropy_of_class=[]\n",
    "    for i in classes:\n",
    "        col=dataframe[column==i][target]\n",
    "        entropy_of_class.append(calc_entropy(col))\n",
    "    ig=target_entropy\n",
    "    category_entropy={}\n",
    "    split_info=0\n",
    "    for i in range(len(values)):\n",
    "        ig-=(entropy_of_class[i]*(values[i]/n))\n",
    "        split_info-=(values[i]/n)*np.log2(values[i]/n)\n",
    "        category_entropy[classes[i]]=entropy_of_class[i]\n",
    "    return ig/split_info,category_entropy"
   ]
  },
  {
   "cell_type": "code",
   "execution_count": 7,
   "id": "ce00aaaf",
   "metadata": {},
   "outputs": [],
   "source": [
    "def build_decisionTree(tree,dataframe,target,target_entropy):\n",
    "    attributes=np.array(dataframe.columns[:-1])\n",
    "    max_gr=0;\n",
    "    child_node={}\n",
    "    parent_node=\"\"\n",
    "    \n",
    "    for attribute in attributes:\n",
    "        gain_ratio,children=calc_gain_ratio(dataframe,attribute,target_entropy,target)\n",
    "        if(gain_ratio>max_gr):\n",
    "            max_gr=gain_ratio\n",
    "            child_node=children\n",
    "            parent_node=attribute\n",
    "    tree.value=parent_node\n",
    "    for i in list(child_node.keys()):\n",
    "        child_tree=DecisionTree()\n",
    "        temp_df=dataframe[dataframe[parent_node]==i]\n",
    "        new_df=temp_df.drop([parent_node],axis=1)\n",
    "        if(child_node[i]==0):\n",
    "            tree.nodes[i]=temp_df[target].unique()[0]\n",
    "        else:\n",
    "            tree.nodes[i]=child_tree\n",
    "            build_decisionTree(child_tree,new_df,target,child_node[i])"
   ]
  },
  {
   "cell_type": "code",
   "execution_count": 8,
   "id": "0458c769",
   "metadata": {},
   "outputs": [],
   "source": [
    "tree=DecisionTree()\n",
    "target='Play Tennis'\n",
    "target_entropy=calc_entropy(df[target])\n",
    "build_decisionTree(tree,df,target,target_entropy)"
   ]
  },
  {
   "cell_type": "code",
   "execution_count": 9,
   "id": "06f8ec37",
   "metadata": {},
   "outputs": [
    {
     "name": "stdout",
     "output_type": "stream",
     "text": [
      "Outlook {'Sunny': <__main__.DecisionTree object at 0x000001985343DAC8>, 'Rain': <__main__.DecisionTree object at 0x000001985345F1D0>, 'Overcast': 'Yes'}\n"
     ]
    }
   ],
   "source": [
    "print(tree)"
   ]
  },
  {
   "cell_type": "code",
   "execution_count": 10,
   "id": "473e3cc5",
   "metadata": {},
   "outputs": [
    {
     "name": "stdout",
     "output_type": "stream",
     "text": [
      "Humidity {'High': 'No', 'Normal': 'Yes'}\n"
     ]
    }
   ],
   "source": [
    "print(tree.nodes['Sunny'])"
   ]
  },
  {
   "cell_type": "code",
   "execution_count": 11,
   "id": "fba83b8d",
   "metadata": {},
   "outputs": [
    {
     "name": "stdout",
     "output_type": "stream",
     "text": [
      "Wind {'Weak': 'Yes', 'Strong': 'No'}\n"
     ]
    }
   ],
   "source": [
    "print(tree.nodes['Rain'])"
   ]
  },
  {
   "cell_type": "code",
   "execution_count": null,
   "id": "202d4d3d",
   "metadata": {},
   "outputs": [],
   "source": []
  },
  {
   "cell_type": "code",
   "execution_count": null,
   "id": "66011b92",
   "metadata": {},
   "outputs": [],
   "source": []
  }
 ],
 "metadata": {
  "kernelspec": {
   "display_name": "Python 3",
   "language": "python",
   "name": "python3"
  },
  "language_info": {
   "codemirror_mode": {
    "name": "ipython",
    "version": 3
   },
   "file_extension": ".py",
   "mimetype": "text/x-python",
   "name": "python",
   "nbconvert_exporter": "python",
   "pygments_lexer": "ipython3",
   "version": "3.6.15"
  }
 },
 "nbformat": 4,
 "nbformat_minor": 5
}
