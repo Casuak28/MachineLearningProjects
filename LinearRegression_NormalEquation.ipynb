{
 "cells": [
  {
   "cell_type": "code",
   "execution_count": 1,
   "id": "9e2a9047",
   "metadata": {},
   "outputs": [],
   "source": [
    "#======================================================#\n",
    "#     LAB 4 - Linear Regression using Normal Equations #\n",
    "#     Author: SHIKHAR ASTHANA                          #\n",
    "#     Roll No. : 2K22/AFI/24                           #\n",
    "#     Subject: Machine Learning Lab (Kavinder Sir)     #\n",
    "#======================================================#"
   ]
  },
  {
   "cell_type": "code",
   "execution_count": 2,
   "id": "e270c01c",
   "metadata": {},
   "outputs": [],
   "source": [
    "#importing the required libraries\n",
    "import pandas as pd\n",
    "import numpy as np\n",
    "import matplotlib.pyplot as plt\n",
    "import seaborn as sns"
   ]
  },
  {
   "cell_type": "code",
   "execution_count": 3,
   "id": "faf04562",
   "metadata": {},
   "outputs": [
    {
     "data": {
      "text/html": [
       "<div>\n",
       "<style scoped>\n",
       "    .dataframe tbody tr th:only-of-type {\n",
       "        vertical-align: middle;\n",
       "    }\n",
       "\n",
       "    .dataframe tbody tr th {\n",
       "        vertical-align: top;\n",
       "    }\n",
       "\n",
       "    .dataframe thead th {\n",
       "        text-align: right;\n",
       "    }\n",
       "</style>\n",
       "<table border=\"1\" class=\"dataframe\">\n",
       "  <thead>\n",
       "    <tr style=\"text-align: right;\">\n",
       "      <th></th>\n",
       "      <th>TV</th>\n",
       "      <th>Sales</th>\n",
       "    </tr>\n",
       "  </thead>\n",
       "  <tbody>\n",
       "    <tr>\n",
       "      <th>0</th>\n",
       "      <td>230.1</td>\n",
       "      <td>22.1</td>\n",
       "    </tr>\n",
       "    <tr>\n",
       "      <th>1</th>\n",
       "      <td>44.5</td>\n",
       "      <td>10.4</td>\n",
       "    </tr>\n",
       "    <tr>\n",
       "      <th>2</th>\n",
       "      <td>17.2</td>\n",
       "      <td>12.0</td>\n",
       "    </tr>\n",
       "    <tr>\n",
       "      <th>3</th>\n",
       "      <td>151.5</td>\n",
       "      <td>16.5</td>\n",
       "    </tr>\n",
       "    <tr>\n",
       "      <th>4</th>\n",
       "      <td>180.8</td>\n",
       "      <td>17.9</td>\n",
       "    </tr>\n",
       "  </tbody>\n",
       "</table>\n",
       "</div>"
      ],
      "text/plain": [
       "      TV  Sales\n",
       "0  230.1   22.1\n",
       "1   44.5   10.4\n",
       "2   17.2   12.0\n",
       "3  151.5   16.5\n",
       "4  180.8   17.9"
      ]
     },
     "execution_count": 3,
     "metadata": {},
     "output_type": "execute_result"
    }
   ],
   "source": [
    "#importing the dataset\n",
    "dataset = pd.read_csv(\"advertising.csv\")\n",
    "dataset[[\"TV\",\"Sales\"]].head()"
   ]
  },
  {
   "cell_type": "code",
   "execution_count": 4,
   "id": "70a77b82",
   "metadata": {},
   "outputs": [
    {
     "data": {
      "text/plain": [
       "(200, 2)"
      ]
     },
     "execution_count": 4,
     "metadata": {},
     "output_type": "execute_result"
    }
   ],
   "source": [
    "dataset[[\"TV\",\"Sales\"]].shape"
   ]
  },
  {
   "cell_type": "code",
   "execution_count": 5,
   "id": "4dc153f1",
   "metadata": {},
   "outputs": [],
   "source": [
    "#keeping only the first column and target column\n",
    "\n",
    "reg_data = dataset[[\"TV\",\"Sales\"]]\n",
    "\n",
    "#Separating the columns based on independent and dependent variable.\n",
    "x = reg_data['TV']\n",
    "y = reg_data['Sales']\n",
    "\n",
    "#Applying standardisation to the independent variable\n",
    "x = (x - x.mean()) / x.std()\n",
    "\n",
    "#adding a column of ones to signify the bias to be added when we do dot product with theta vector \n",
    "x = np.c_[np.ones(x.shape[0]), x]"
   ]
  },
  {
   "cell_type": "code",
   "execution_count": 6,
   "id": "95bd3e9e",
   "metadata": {},
   "outputs": [
    {
     "data": {
      "text/plain": [
       "array([[ 1.        ,  0.9674246 ],\n",
       "       [ 1.        , -1.19437904],\n",
       "       [ 1.        , -1.51235985],\n",
       "       [ 1.        ,  0.05191939],\n",
       "       [ 1.        ,  0.39319551]])"
      ]
     },
     "execution_count": 6,
     "metadata": {},
     "output_type": "execute_result"
    }
   ],
   "source": [
    "x[:5]"
   ]
  },
  {
   "cell_type": "code",
   "execution_count": 7,
   "id": "dc8a3e0c",
   "metadata": {},
   "outputs": [],
   "source": [
    "#Normal Equation is the Closed-form solution for the Linear Regression algorithm \n",
    "#which means that we can obtain the optimal parameters by just using a formula.\n",
    "\n",
    "theta_best = np.linalg.inv(x.T.dot(x)).dot(x.T).dot(y)"
   ]
  },
  {
   "cell_type": "code",
   "execution_count": 8,
   "id": "b179b4ff",
   "metadata": {},
   "outputs": [
    {
     "data": {
      "text/plain": [
       "array([15.1305    ,  4.76188551])"
      ]
     },
     "execution_count": 8,
     "metadata": {},
     "output_type": "execute_result"
    }
   ],
   "source": [
    "theta_best"
   ]
  },
  {
   "cell_type": "code",
   "execution_count": 10,
   "id": "89e6425e",
   "metadata": {},
   "outputs": [
    {
     "data": {
      "image/png": "[encoded data removed]",
      "text/plain": [
       "<Figure size 432x288 with 1 Axes>"
      ]
     },
     "metadata": {
      "needs_background": "light"
     },
     "output_type": "display_data"
    }
   ],
   "source": [
    "#plot to show final linear regression line\n",
    "prediction = np.dot(x, theta_best)\n",
    "plt.scatter(x[:,1],y)\n",
    "plt.plot(x[:,1],prediction,color=\"red\")\n",
    "plt.show()"
   ]
  },
  {
   "cell_type": "code",
   "execution_count": null,
   "id": "93c1d7b2",
   "metadata": {},
   "outputs": [],
   "source": []
  }
 ],
 "metadata": {
  "kernelspec": {
   "display_name": "Python 3 (ipykernel)",
   "language": "python",
   "name": "python3"
  },
  "language_info": {
   "codemirror_mode": {
    "name": "ipython",
    "version": 3
   },
   "file_extension": ".py",
   "mimetype": "text/x-python",
   "name": "python",
   "nbconvert_exporter": "python",
   "pygments_lexer": "ipython3",
   "version": "3.9.7"
  }
 },
 "nbformat": 4,
 "nbformat_minor": 5
}
